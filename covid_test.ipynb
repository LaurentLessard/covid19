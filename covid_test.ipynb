{
 "cells": [
  {
   "cell_type": "markdown",
   "metadata": {},
   "source": [
    "# Total COVID-19 deaths for different countries\n",
    "\n",
    "Script produced by [Laurent Lessard](https://laurentlessard.com)\n",
    "\n",
    "---"
   ]
  },
  {
   "cell_type": "markdown",
   "metadata": {},
   "source": [
    "### Import data from JHU CSSE"
   ]
  },
  {
   "cell_type": "code",
   "execution_count": 4,
   "metadata": {},
   "outputs": [],
   "source": [
    "import pandas as pd\n",
    "import matplotlib.pyplot as plt\n",
    "import matplotlib as mpl\n",
    "from matplotlib.dates import DateFormatter\n",
    "import matplotlib.dates as mdates\n",
    "import numpy as np\n",
    "import datetime\n",
    "\n",
    "mpl.rcParams['figure.dpi'] = 120\n",
    "\n",
    "url = \"https://raw.githubusercontent.com/CSSEGISandData/COVID-19/master/csse_covid_19_data/csse_covid_19_time_series/time_series_covid19_deaths_global.csv\"\n",
    "df_raw = pd.read_csv(url)"
   ]
  },
  {
   "cell_type": "markdown",
   "metadata": {},
   "source": [
    "### Reformat data into convenient form"
   ]
  },
  {
   "cell_type": "code",
   "execution_count": 5,
   "metadata": {},
   "outputs": [
    {
     "name": "stdout",
     "output_type": "stream",
     "text": [
      "Sat May 29, 2021\n"
     ]
    }
   ],
   "source": [
    "colnames = df_raw.columns\n",
    "\n",
    "# aggregate by region\n",
    "df = df_raw.pivot_table(index='Country/Region',values=colnames[4:],aggfunc=sum)\n",
    "\n",
    "# make countries columns rather than rows\n",
    "df = df.T\n",
    "\n",
    "# make the index a datetime object\n",
    "df.index = pd.to_datetime(df.index)\n",
    "\n",
    "# sort the dates/times\n",
    "df.sort_index(inplace=True)\n",
    "\n",
    "# record the latest date\n",
    "latest_date = df.index[-1]\n",
    "latest_date_str = latest_date.strftime(\"%a %b %d, %Y\")\n",
    "print(latest_date_str)"
   ]
  },
  {
   "cell_type": "markdown",
   "metadata": {},
   "source": [
    "### Plot daily deaths"
   ]
  },
  {
   "cell_type": "code",
   "execution_count": 6,
   "metadata": {},
   "outputs": [
    {
     "ename": "NameError",
     "evalue": "name 'data_len' is not defined",
     "output_type": "error",
     "traceback": [
      "\u001b[1;31m---------------------------------------------------------------------------\u001b[0m",
      "\u001b[1;31mNameError\u001b[0m                                 Traceback (most recent call last)",
      "\u001b[1;32m<ipython-input-6-98c5fff84612>\u001b[0m in \u001b[0;36m<module>\u001b[1;34m\u001b[0m\n\u001b[0;32m     10\u001b[0m \u001b[1;31m# data_len = max([len(dat) for dat in shifted_data])\u001b[0m\u001b[1;33m\u001b[0m\u001b[1;33m\u001b[0m\u001b[1;33m\u001b[0m\u001b[0m\n\u001b[0;32m     11\u001b[0m \u001b[1;33m\u001b[0m\u001b[0m\n\u001b[1;32m---> 12\u001b[1;33m \u001b[0mxmax\u001b[0m \u001b[1;33m=\u001b[0m \u001b[0mdata_len\u001b[0m\u001b[1;33m\u001b[0m\u001b[1;33m\u001b[0m\u001b[0m\n\u001b[0m\u001b[0;32m     13\u001b[0m \u001b[1;33m\u001b[0m\u001b[0m\n\u001b[0;32m     14\u001b[0m \u001b[0mt\u001b[0m \u001b[1;33m=\u001b[0m \u001b[0mnp\u001b[0m\u001b[1;33m.\u001b[0m\u001b[0marray\u001b[0m\u001b[1;33m(\u001b[0m\u001b[0mrange\u001b[0m\u001b[1;33m(\u001b[0m\u001b[0mdata_len\u001b[0m\u001b[1;33m)\u001b[0m\u001b[1;33m)\u001b[0m\u001b[1;33m\u001b[0m\u001b[1;33m\u001b[0m\u001b[0m\n",
      "\u001b[1;31mNameError\u001b[0m: name 'data_len' is not defined"
     ]
    },
    {
     "data": {
      "image/png": "[encoded data removed]",
      "text/plain": [
       "<Figure size 1080x600 with 1 Axes>"
      ]
     },
     "metadata": {
      "needs_background": "light"
     },
     "output_type": "display_data"
    }
   ],
   "source": [
    "fig = plt.figure(figsize=(9,5))\n",
    "ax = plt.gca()\n",
    "\n",
    "# selected countries\n",
    "countries = ['US']\n",
    "min_deaths = 10\n",
    "\n",
    "# shift data so that index corresponds to days since min_death deaths.\n",
    "# shifted_data = shift_data( countries, min_deaths )\n",
    "# data_len = max([len(dat) for dat in shifted_data])\n",
    "\n",
    "xmax = data_len\n",
    "\n",
    "t = np.array(range(data_len))\n",
    "\n",
    "K = 750\n",
    "zeta = 0.1\n",
    "wn = np.pi/55\n",
    "wd = np.sqrt(1-zeta**2) * wn\n",
    "phi = np.arccos(zeta)\n",
    "\n",
    "# for data in shifted_data:\n",
    "color = next(ax._get_lines.prop_cycler)['color']\n",
    "plt.plot( df['US'].diff(), marker=\".\", label=None, color=color, alpha=0.2 )\n",
    "plt.plot( df['US'].diff().rolling(7).mean(), marker=\"\", label='US', color=color, linewidth=2 )\n",
    "#     plt.plot( K*(1 - 1/np.sqrt(1-zeta**2) * np.exp(-zeta*wn*t) * np.sin( wd*t + phi )), label=\"second-order step response\")\n",
    "\n",
    "# make plot\n",
    "ax.set_title(\"Daily COVID-19 deaths in the US (with 7-day moving average)\")\n",
    "# ax.legend(loc=\"upper left\")\n",
    "\n",
    "ax.set_xlim(xmin = datetime.date(2020, 3, 1), xmax = latest_date )\n",
    "ax.set_ylim(ymin=0,ymax=2500)\n",
    "\n",
    "# ax.set_xlabel(\"Date\")\n",
    "ax.set_ylabel(\"Daily deaths\")\n",
    "ax.grid()\n",
    "\n",
    "fig.autofmt_xdate()\n",
    "date_format = \"%b %d\"\n",
    "ax.xaxis.set_major_formatter(DateFormatter(date_format))\n",
    "    \n",
    "plt.tight_layout(pad=0)\n",
    "# plt.savefig(\"figures/world_daily_deaths_vs_time.png\")"
   ]
  },
  {
   "cell_type": "code",
   "execution_count": null,
   "metadata": {},
   "outputs": [],
   "source": []
  }
 ],
 "metadata": {
  "kernelspec": {
   "display_name": "Python 3",
   "language": "python",
   "name": "python3"
  },
  "language_info": {
   "codemirror_mode": {
    "name": "ipython",
    "version": 3
   },
   "file_extension": ".py",
   "mimetype": "text/x-python",
   "name": "python",
   "nbconvert_exporter": "python",
   "pygments_lexer": "ipython3",
   "version": "3.8.8"
  }
 },
 "nbformat": 4,
 "nbformat_minor": 4
}
