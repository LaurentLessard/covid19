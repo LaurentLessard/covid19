{
 "cells": [
  {
   "cell_type": "markdown",
   "metadata": {},
   "source": [
    "# Total COVID-19 deaths for different Canadian provinces\n",
    "\n",
    "Script produced by [Laurent Lessard](https://laurentlessard.com)\n",
    "\n",
    "---"
   ]
  },
  {
   "cell_type": "markdown",
   "metadata": {},
   "source": [
    "### Import data from covidtracking.com"
   ]
  },
  {
   "cell_type": "code",
   "execution_count": 1,
   "metadata": {},
   "outputs": [],
   "source": [
    "import pandas as pd\n",
    "import matplotlib as mpl\n",
    "import matplotlib.pyplot as plt\n",
    "import numpy as np\n",
    "\n",
    "mpl.rcParams['figure.dpi'] = 120\n",
    "\n",
    "url = \"https://raw.githubusercontent.com/CSSEGISandData/COVID-19/master/csse_covid_19_data/csse_covid_19_time_series/time_series_covid19_deaths_global.csv\"\n",
    "df_raw = pd.read_csv(url)"
   ]
  },
  {
   "cell_type": "markdown",
   "metadata": {},
   "source": [
    "### Reformat data into convenient form"
   ]
  },
  {
   "cell_type": "code",
   "execution_count": 2,
   "metadata": {},
   "outputs": [
    {
     "name": "stdout",
     "output_type": "stream",
     "text": [
      "Mon May 11, 2020\n"
     ]
    }
   ],
   "source": [
    "colnames = df_raw.columns\n",
    "\n",
    "# exctract Canada only, organize by province\n",
    "df = df_raw[df_raw['Country/Region'] == 'Canada']\n",
    "df = df.pivot_table(index='Province/State',values=colnames[4:],aggfunc=sum)\n",
    "\n",
    "# drop cruise ships/misc.\n",
    "df.drop(['Diamond Princess', 'Grand Princess', 'Recovered'], axis='index', inplace=True)\n",
    "\n",
    "# make countries columns rather than rows\n",
    "df = df.T\n",
    "\n",
    "# make the index a datetime object\n",
    "df = df.reindex( pd.to_datetime(df.index) )\n",
    "\n",
    "# sort the dates/times\n",
    "df.sort_index(inplace=True)\n",
    "\n",
    "# record the latest date\n",
    "latest_date = df.index[-1].strftime(\"%a %b %d, %Y\")\n",
    "print(latest_date)"
   ]
  },
  {
   "cell_type": "markdown",
   "metadata": {},
   "source": [
    "### List of provinces with the most deaths"
   ]
  },
  {
   "cell_type": "code",
   "execution_count": 3,
   "metadata": {},
   "outputs": [
    {
     "data": {
      "text/plain": [
       "Province/State\n",
       "Quebec                       3014\n",
       "Ontario                      1788\n",
       "British Columbia              130\n",
       "Alberta                       117\n",
       "Nova Scotia                    48\n",
       "Saskatchewan                    7\n",
       "Manitoba                        7\n",
       "Newfoundland and Labrador       3\n",
       "Yukon                           0\n",
       "Prince Edward Island            0\n",
       "Northwest Territories           0\n",
       "New Brunswick                   0\n",
       "Name: 2020-05-11 00:00:00, dtype: int64"
      ]
     },
     "execution_count": 3,
     "metadata": {},
     "output_type": "execute_result"
    }
   ],
   "source": [
    "deaths_sorted = df.iloc[-1].sort_values(ascending=False)\n",
    "deaths_sorted"
   ]
  },
  {
   "cell_type": "markdown",
   "metadata": {},
   "source": [
    "### List of states with at least 50 deaths"
   ]
  },
  {
   "cell_type": "code",
   "execution_count": 4,
   "metadata": {},
   "outputs": [
    {
     "name": "stdout",
     "output_type": "stream",
     "text": [
      "Alberta, British Columbia, Ontario, Quebec, "
     ]
    }
   ],
   "source": [
    "provs = df.columns[df.iloc[-1] >= 50]\n",
    "\n",
    "for (i,c) in enumerate(provs):\n",
    "    print( c.ljust(4), end=', ')\n",
    "    if (i+1) % 12 == 0:\n",
    "        print()"
   ]
  },
  {
   "cell_type": "markdown",
   "metadata": {},
   "source": [
    "### Plot shifted death toll for selected provinces"
   ]
  },
  {
   "cell_type": "code",
   "execution_count": null,
   "metadata": {},
   "outputs": [],
   "source": [
    "# function that shifts the data so everything starts from first min_deaths\n",
    "def shift_data( states, min_deaths ):\n",
    "    shifted_data = []\n",
    "    for (c,data) in df[states].items():\n",
    "        shifted_data.append( data[data >= min_deaths].reset_index(drop=True) )\n",
    "    return shifted_data\n",
    "\n",
    "# selected provinces\n",
    "provs = deaths_sorted[:5].index\n",
    "min_deaths = 10\n",
    "xmax = 55\n",
    "\n",
    "# shift data so that index corresponds to days since min_death deaths.\n",
    "shifted_data = shift_data( provs, min_deaths )\n",
    "\n",
    "# merge into a single dataframe\n",
    "dfx = pd.concat( shifted_data, axis=1 )\n",
    "\n",
    "# make plot\n",
    "ax = dfx.plot(title=\"Total COVID-19 deaths in Canada as of %s\" % latest_date, logy=True, figsize=(10,5), grid=True, marker='.');\n",
    "ax.set_xlabel(\"days since the first day %g deaths were recorded\" % min_deaths )\n",
    "ax.set_ylabel(\"total deaths\")\n",
    "ax.set_ylim(min_deaths*.7,1e4)\n",
    "ax.set_xlim(0,xmax)\n",
    "ax.legend(loc=\"lower right\")\n",
    "\n",
    "# draw doubling lines (doubling every d days)\n",
    "dvals = [1,2,3,7,14,30]    # values of doubling lines to draw (d)\n",
    "dtxt = [\"day\", \"2 days\", \"3 days\", \"week\", \"two weeks\", \"month\"]\n",
    "tloc = [5,10,20,25,25,25] # x-coordinate of text labels\n",
    "for i,d in enumerate(dvals):\n",
    "    tx = tloc[i]\n",
    "    ty = min_deaths*(2**(tx/d))\n",
    "    angle = np.arctan(ty/d * np.log(2))\n",
    "    angle_screen = ax.transData.transform_angles(np.array([angle,]),np.array([[tx,ty]]),radians=True)[0]\n",
    "    y = min_deaths*(2**(xmax/d))\n",
    "    plt.plot([0,xmax],[min_deaths,y], '--', color='gray')\n",
    "    ax.annotate(\"doubles every %s\" % dtxt[i], xy=(tx,ty), xytext=(-5*np.sin(angle_screen),5*np.cos(angle_screen)),\n",
    "                textcoords=\"offset points\", rotation_mode='anchor', rotation=np.rad2deg(angle_screen))\n",
    "plt.tight_layout(pad=0)\n",
    "plt.savefig(\"figures/provinces_total_deaths_vs_time.png\")"
   ]
  },
  {
   "cell_type": "code",
   "execution_count": null,
   "metadata": {},
   "outputs": [],
   "source": []
  }
 ],
 "metadata": {
  "kernelspec": {
   "display_name": "Python 3",
   "language": "python",
   "name": "python3"
  },
  "language_info": {
   "codemirror_mode": {
    "name": "ipython",
    "version": 3
   },
   "file_extension": ".py",
   "mimetype": "text/x-python",
   "name": "python",
   "nbconvert_exporter": "python",
   "pygments_lexer": "ipython3",
   "version": "3.8.2"
  }
 },
 "nbformat": 4,
 "nbformat_minor": 4
}
